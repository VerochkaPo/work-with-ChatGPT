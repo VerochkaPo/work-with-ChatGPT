{
  "cells": [
    {
      "cell_type": "markdown",
      "metadata": {
        "id": "view-in-github",
        "colab_type": "text"
      },
      "source": [
        "<a href=\"https://colab.research.google.com/github/VerochkaPo/work-with-ChatGPT/blob/main/%D0%A0%D0%B0%D0%BD%D0%B6%D0%B8%D1%80%D0%BE%D0%B2%D0%B0%D0%BD%D0%B8%D0%B5_%D0%BE%D1%82%D0%B7%D1%8B%D0%B2%D0%BE%D0%B2(ChatGPT).ipynb\" target=\"_parent\"><img src=\"https://colab.research.google.com/assets/colab-badge.svg\" alt=\"Open In Colab\"/></a>"
      ]
    },
    {
      "cell_type": "code",
      "execution_count": 7,
      "metadata": {
        "colab": {
          "base_uri": "https://localhost:8080/"
        },
        "id": "AsHgRQhF5MKp",
        "outputId": "a7f4e385-11ec-41ae-a48d-cefe3c9546d8"
      },
      "outputs": [
        {
          "output_type": "stream",
          "name": "stdout",
          "text": [
            "/usr/local/lib/python3.8/dist-packages/gdown/cli.py:127: FutureWarning: Option `--id` was deprecated in version 4.3.1 and will be removed in 5.0. You don't need to pass it anymore to use a file ID.\n",
            "  warnings.warn(\n",
            "Downloading...\n",
            "From: https://drive.google.com/uc?id=1oCPKBq96Pj5AAhRrsGIuf-VTmnaWYp_X\n",
            "To: /content/Отзывы.xlsx\n",
            "100% 18.4k/18.4k [00:00<00:00, 19.2MB/s]\n"
          ]
        }
      ],
      "source": [
        "#загружаем файл\n",
        "!gdown --id 1oCPKBq96Pj5AAhRrsGIuf-VTmnaWYp_X #https://docs.google.com/spreadsheets/d/1oCPKBq96Pj5AAhRrsGIuf-VTmnaWYp_X/edit?usp=share_link&ouid=117219351157049910466&rtpof=true&sd=true"
      ]
    },
    {
      "cell_type": "code",
      "source": [
        "import pandas as pd\n",
        "import nltk\n",
        "nltk.download('vader_lexicon')\n",
        "from nltk.sentiment import SentimentIntensityAnalyzer\n",
        "\n",
        "# Инициализация анализатора тональности\n",
        "sia = SentimentIntensityAnalyzer()\n",
        "\n",
        "# Чтение файла и сохранение в датафрейм\n",
        "filename = 'Отзывы.xlsx'\n",
        "df = pd.read_excel(filename)\n",
        "\n",
        "# Оценка отзывов\n",
        "df['rate'] = 0  # Инициализация всех строк оценкой 0\n",
        "# Определение оценки на основе компаунд-оценки текста\n",
        "for index, row in df.iterrows():\n",
        "    review = row['review']\n",
        "    score = sia.polarity_scores(review)['compound']\n",
        "    if score >= 0.9:\n",
        "        df.loc[index, 'rate'] = 10\n",
        "    elif score >= 0.7:\n",
        "        df.loc[index, 'rate'] = 9\n",
        "    elif score >= 0.5:\n",
        "        df.loc[index, 'rate'] = 8\n",
        "    elif score >= 0.3:\n",
        "        df.loc[index, 'rate'] = 7\n",
        "    elif score >= 0.1:\n",
        "        df.loc[index, 'rate'] = 6\n",
        "    elif score >= -0.1:\n",
        "        df.loc[index, 'rate'] = 5\n",
        "    elif score >= -0.3:\n",
        "        df.loc[index, 'rate'] = 4\n",
        "    elif score >= -0.5:\n",
        "        df.loc[index, 'rate'] = 3\n",
        "    elif score >= -0.7:\n",
        "        df.loc[index, 'rate'] = 2\n",
        "    else:\n",
        "        df.loc[index, 'rate'] = 1\n",
        "\n",
        "# Сортировка по убыванию оценки\n",
        "df_sorted = df.sort_values('rate', ascending=False)\n",
        "\n",
        "# Запись в новый файл\n",
        "new_filename = filename.split('.')[0] + '_analyzed.csv'\n",
        "df_sorted.to_csv(new_filename, index=False)\n",
        "\n",
        "print(f\"Файл {new_filename} успешно создан!\")"
      ],
      "metadata": {
        "colab": {
          "base_uri": "https://localhost:8080/"
        },
        "id": "XaP5FRcXRgnD",
        "outputId": "98150046-a363-41b7-bfe6-22cb1d00be99"
      },
      "execution_count": 9,
      "outputs": [
        {
          "output_type": "stream",
          "name": "stdout",
          "text": [
            "Файл Отзывы_analyzed.csv успешно создан!\n"
          ]
        },
        {
          "output_type": "stream",
          "name": "stderr",
          "text": [
            "[nltk_data] Downloading package vader_lexicon to /root/nltk_data...\n",
            "[nltk_data]   Package vader_lexicon is already up-to-date!\n"
          ]
        }
      ]
    }
  ],
  "metadata": {
    "colab": {
      "provenance": [],
      "authorship_tag": "ABX9TyMT2EHDSW1OHiGBYZM6mEtQ",
      "include_colab_link": true
    },
    "kernelspec": {
      "display_name": "Python 3",
      "name": "python3"
    },
    "language_info": {
      "name": "python"
    }
  },
  "nbformat": 4,
  "nbformat_minor": 0
}